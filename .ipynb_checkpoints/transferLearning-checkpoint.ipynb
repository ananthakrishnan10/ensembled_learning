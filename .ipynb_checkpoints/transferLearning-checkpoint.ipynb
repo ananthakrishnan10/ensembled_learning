{
 "cells": [
  {
   "cell_type": "code",
   "execution_count": 22,
   "metadata": {},
   "outputs": [
    {
     "name": "stdout",
     "output_type": "stream",
     "text": [
      "a\n",
      "b\n",
      "2\n"
     ]
    }
   ],
   "source": [
    "import os\n",
    "from PIL import Image\n",
    "import numpy as np\n",
    "import keras\n",
    "import os\n",
    "import cv2\n",
    "from matplotlib import pyplot as plt\n",
    "from keras.applications.vgg16 import VGG16\n",
    "from keras.preprocessing import image\n",
    "from keras.applications.vgg16 import preprocess_input\n",
    "import numpy as np\n",
    "from keras.applications.vgg16 import decode_predictions\n",
    "\n",
    "vggModel = VGG16(weights='imagenet', include_top=False)\n",
    "\n",
    "from keras.applications.resnet50 import ResNet50\n",
    "# load model\n",
    "resModel = ResNet50(weights='imagenet',include_top=False)\n",
    "\n",
    "\n",
    "X = []\n",
    "Y = []\n",
    "classCount = 0\n",
    "\n",
    "base_path='images'\n",
    "\n",
    "source_path=base_path\n",
    "for child in os.listdir(source_path):\n",
    "    classCount +=1\n",
    "    print(child)\n",
    "    sub_path = os.path.join(source_path, child)\n",
    "    if os.path.isdir(sub_path):\n",
    "        for data_file in os.listdir(sub_path):\n",
    "            Qry = Image.open(os.path.join(sub_path, data_file))\n",
    "            Qry = Qry.convert(\"RGB\")\n",
    "            Qry = np.array(Qry.resize((100,100)))\n",
    "            Qry = Qry.reshape([-1,100,100,3])\n",
    "            resModel_features=(resModel.predict([Qry])).flatten()\n",
    "            X.append(resModel_features)\n",
    "            Y.append(child)\n",
    "    \n",
    "# print(X)\n",
    "# print(Y)\n",
    "print(classCount)\n"
   ]
  },
  {
   "cell_type": "code",
   "execution_count": 14,
   "metadata": {},
   "outputs": [
    {
     "name": "stdout",
     "output_type": "stream",
     "text": [
      "(4, 32768)\n",
      "(4,)\n"
     ]
    }
   ],
   "source": [
    "print(np.shape(X))\n",
    "print(np.shape(Y))"
   ]
  },
  {
   "cell_type": "code",
   "execution_count": 15,
   "metadata": {},
   "outputs": [
    {
     "name": "stdout",
     "output_type": "stream",
     "text": [
      "Model: \"sequential_3\"\n",
      "_________________________________________________________________\n",
      "Layer (type)                 Output Shape              Param #   \n",
      "=================================================================\n",
      "dense_30 (Dense)             (None, 5000)              163845000 \n",
      "_________________________________________________________________\n",
      "dense_31 (Dense)             (None, 2000)              10002000  \n",
      "_________________________________________________________________\n",
      "dense_32 (Dense)             (None, 1000)              2001000   \n",
      "_________________________________________________________________\n",
      "dense_33 (Dense)             (None, 500)               500500    \n",
      "_________________________________________________________________\n",
      "dense_34 (Dense)             (None, 300)               150300    \n",
      "_________________________________________________________________\n",
      "dense_35 (Dense)             (None, 200)               60200     \n",
      "_________________________________________________________________\n",
      "dense_36 (Dense)             (None, 120)               24120     \n",
      "_________________________________________________________________\n",
      "dense_37 (Dense)             (None, 30)                3630      \n",
      "_________________________________________________________________\n",
      "dense_38 (Dense)             (None, 30)                930       \n",
      "_________________________________________________________________\n",
      "dense_39 (Dense)             (None, 2)                 62        \n",
      "=================================================================\n",
      "Total params: 176,587,742\n",
      "Trainable params: 176,587,742\n",
      "Non-trainable params: 0\n",
      "_________________________________________________________________\n",
      "Epoch 1/15\n",
      "1/1 [==============================] - 0s 7ms/step - loss: 0.9047 - accuracy: 0.6667\n",
      "Epoch 2/15\n",
      "1/1 [==============================] - 0s 4ms/step - loss: 1.9565 - accuracy: 0.6667\n",
      "Epoch 3/15\n",
      "1/1 [==============================] - 0s 4ms/step - loss: 0.8841 - accuracy: 0.3333\n",
      "Epoch 4/15\n",
      "1/1 [==============================] - 0s 5ms/step - loss: 7.6832 - accuracy: 0.6667\n",
      "Epoch 5/15\n",
      "1/1 [==============================] - 0s 5ms/step - loss: 7.6832 - accuracy: 0.6667\n",
      "Epoch 6/15\n",
      "1/1 [==============================] - 0s 4ms/step - loss: 7.6832 - accuracy: 0.6667\n",
      "Epoch 7/15\n",
      "1/1 [==============================] - 0s 4ms/step - loss: 7.6832 - accuracy: 0.6667\n",
      "Epoch 8/15\n",
      "1/1 [==============================] - 0s 4ms/step - loss: 7.6832 - accuracy: 0.6667\n",
      "Epoch 9/15\n",
      "1/1 [==============================] - 0s 4ms/step - loss: 7.6832 - accuracy: 0.6667\n",
      "Epoch 10/15\n",
      "1/1 [==============================] - 0s 4ms/step - loss: 7.6832 - accuracy: 0.6667\n",
      "Epoch 11/15\n",
      "1/1 [==============================] - 0s 4ms/step - loss: 7.6832 - accuracy: 0.6667\n",
      "Epoch 12/15\n",
      "1/1 [==============================] - 0s 4ms/step - loss: 7.6832 - accuracy: 0.6667\n",
      "Epoch 13/15\n",
      "1/1 [==============================] - 0s 5ms/step - loss: 7.6832 - accuracy: 0.6667\n",
      "Epoch 14/15\n",
      "1/1 [==============================] - 0s 6ms/step - loss: 7.6832 - accuracy: 0.6667\n",
      "Epoch 15/15\n",
      "1/1 [==============================] - 0s 4ms/step - loss: 7.6832 - accuracy: 0.6667\n",
      "1/1 [==============================] - 0s 997us/step - loss: 7.6246 - accuracy: 0.0000e+00\n"
     ]
    }
   ],
   "source": [
    "from sklearn.preprocessing import LabelBinarizer\n",
    "labelBinarizer = LabelBinarizer()\n",
    "y = labelBinarizer.fit_transform(Y)\n",
    "# print(y)        \n",
    "\n",
    "\n",
    "# In[6]:\n",
    "\n",
    "\n",
    "from sklearn.model_selection import train_test_split\n",
    "X_train, X_test, y_train, y_test = train_test_split(np.array(X), np.array(y), \n",
    "                                                    test_size=0.2, random_state=42)\n",
    "\n",
    "import tensorflow as tf\n",
    "\n",
    "from tensorflow.python.keras import layers\n",
    "from tensorflow.python.keras import models\n",
    "\n",
    "import random\n",
    "\n",
    "random.seed(42)\n",
    "np.random.seed(42)\n",
    "# tf.set_random_seed(42)\n",
    "tf.random.set_seed(42)\n",
    "\n",
    "\n",
    "dnnModel=models.Sequential()\n",
    "\n",
    "dnnModel.add(layers.Dense(5000,activation=\"relu\",input_shape=(32768,)))\n",
    "dnnModel.add(layers.Dense(2000,activation=\"relu\"))\n",
    "dnnModel.add(layers.Dense(1000,activation=\"relu\"))\n",
    "dnnModel.add(layers.Dense(500,activation=\"relu\"))\n",
    "dnnModel.add(layers.Dense(300,activation=\"relu\"))\n",
    "dnnModel.add(layers.Dense(200,activation=\"relu\"))\n",
    "dnnModel.add(layers.Dense(120,activation=\"relu\"))\n",
    "dnnModel.add(layers.Dense(30,activation=\"relu\"))\n",
    "dnnModel.add(layers.Dense(30,activation=\"relu\"))\n",
    "dnnModel.add(layers.Dense(classCount,activation=\"softmax\"))\n",
    "dnnModel.summary()\n",
    "\n",
    "\n",
    "dnnModel.compile(optimizer=\"adam\",loss=\"binary_crossentropy\",metrics=[\"accuracy\"])\n",
    "\n",
    "tbCallBack=tf.keras.callbacks.TensorBoard(log_dir='Graph',histogram_freq=0,write_graph=True,write_images=True)\n",
    "\n",
    "dnnModel.fit(X_train,y_train,epochs=15,batch_size=64,callbacks=[tbCallBack])\n",
    "\n",
    "testloss, testAccuracy=dnnModel.evaluate(X_test,y_test)\n",
    "\n",
    "# print(testAccuracy)\n",
    "\n",
    "dnnModel.save_weights('my_checkpoint')\n",
    "\n",
    "#dnnModel.load_weights('my_checkpoint')"
   ]
  },
  {
   "cell_type": "code",
   "execution_count": 16,
   "metadata": {},
   "outputs": [
    {
     "name": "stdout",
     "output_type": "stream",
     "text": [
      "[1]\n"
     ]
    }
   ],
   "source": [
    "Qry = Image.open(\"./0.jpg\")\n",
    "Qry = Image.open(os.path.join(sub_path, data_file))\n",
    "Qry = Qry.convert(\"RGB\")\n",
    "Qry = np.array(Qry.resize((100,100)))\n",
    "Qry = Qry.reshape([-1,100,100,3])\n",
    "\n",
    "feature=(resModel.predict([Qry])).flatten()\n",
    "feature = feature.reshape((-1,len(feature)))\n",
    "y=dnnModel.predict_classes([feature])\n",
    "print(y)"
   ]
  },
  {
   "cell_type": "code",
   "execution_count": 17,
   "metadata": {},
   "outputs": [],
   "source": [
    "from sklearn.model_selection import cross_val_score\n",
    "from sklearn.linear_model import LogisticRegression\n",
    "from sklearn.naive_bayes import GaussianNB\n",
    "from sklearn.ensemble import RandomForestClassifier\n",
    "from sklearn.ensemble import VotingClassifier"
   ]
  },
  {
   "cell_type": "code",
   "execution_count": 19,
   "metadata": {},
   "outputs": [
    {
     "name": "stderr",
     "output_type": "stream",
     "text": [
      "C:\\Users\\user\\Anaconda3\\lib\\site-packages\\sklearn\\model_selection\\_split.py:672: UserWarning: The least populated class in y has only 1 members, which is less than n_splits=2.\n",
      "  % (min_groups, self.n_splits)), UserWarning)\n",
      "C:\\Users\\user\\Anaconda3\\lib\\site-packages\\sklearn\\utils\\validation.py:72: DataConversionWarning: A column-vector y was passed when a 1d array was expected. Please change the shape of y to (n_samples, ), for example using ravel().\n",
      "  return f(**kwargs)\n",
      "C:\\Users\\user\\Anaconda3\\lib\\site-packages\\sklearn\\model_selection\\_validation.py:552: FitFailedWarning: Estimator fit failed. The score on this train-test partition for these parameters will be set to nan. Details: \n",
      "Traceback (most recent call last):\n",
      "  File \"C:\\Users\\user\\Anaconda3\\lib\\site-packages\\sklearn\\model_selection\\_validation.py\", line 531, in _fit_and_score\n",
      "    estimator.fit(X_train, y_train, **fit_params)\n",
      "  File \"C:\\Users\\user\\Anaconda3\\lib\\site-packages\\sklearn\\linear_model\\_logistic.py\", line 1374, in fit\n",
      "    \" class: %r\" % classes_[0])\n",
      "ValueError: This solver needs samples of at least 2 classes in the data, but the data contains only one class: 1\n",
      "\n",
      "  FitFailedWarning)\n",
      "C:\\Users\\user\\Anaconda3\\lib\\site-packages\\sklearn\\utils\\validation.py:72: DataConversionWarning: A column-vector y was passed when a 1d array was expected. Please change the shape of y to (n_samples, ), for example using ravel().\n",
      "  return f(**kwargs)\n"
     ]
    },
    {
     "name": "stdout",
     "output_type": "stream",
     "text": [
      "Accuracy: nan (+/- nan) [Logistic Regression]\n",
      "Accuracy: 0.75 (+/- 0.25) [Random Forest]\n",
      "Accuracy: 0.75 (+/- 0.25) [naive Bayes]\n"
     ]
    },
    {
     "name": "stderr",
     "output_type": "stream",
     "text": [
      "C:\\Users\\user\\Anaconda3\\lib\\site-packages\\sklearn\\model_selection\\_split.py:672: UserWarning: The least populated class in y has only 1 members, which is less than n_splits=2.\n",
      "  % (min_groups, self.n_splits)), UserWarning)\n",
      "C:\\Users\\user\\Anaconda3\\lib\\site-packages\\sklearn\\model_selection\\_validation.py:531: DataConversionWarning: A column-vector y was passed when a 1d array was expected. Please change the shape of y to (n_samples,), for example using ravel().\n",
      "  estimator.fit(X_train, y_train, **fit_params)\n",
      "C:\\Users\\user\\Anaconda3\\lib\\site-packages\\sklearn\\model_selection\\_validation.py:531: DataConversionWarning: A column-vector y was passed when a 1d array was expected. Please change the shape of y to (n_samples,), for example using ravel().\n",
      "  estimator.fit(X_train, y_train, **fit_params)\n",
      "C:\\Users\\user\\Anaconda3\\lib\\site-packages\\sklearn\\model_selection\\_split.py:672: UserWarning: The least populated class in y has only 1 members, which is less than n_splits=2.\n",
      "  % (min_groups, self.n_splits)), UserWarning)\n",
      "C:\\Users\\user\\Anaconda3\\lib\\site-packages\\sklearn\\utils\\validation.py:72: DataConversionWarning: A column-vector y was passed when a 1d array was expected. Please change the shape of y to (n_samples, ), for example using ravel().\n",
      "  return f(**kwargs)\n",
      "C:\\Users\\user\\Anaconda3\\lib\\site-packages\\sklearn\\naive_bayes.py:455: RuntimeWarning: divide by zero encountered in log\n",
      "  n_ij = - 0.5 * np.sum(np.log(2. * np.pi * self.sigma_[i, :]))\n",
      "C:\\Users\\user\\Anaconda3\\lib\\site-packages\\sklearn\\naive_bayes.py:457: RuntimeWarning: divide by zero encountered in true_divide\n",
      "  (self.sigma_[i, :]), 1)\n",
      "C:\\Users\\user\\Anaconda3\\lib\\site-packages\\sklearn\\naive_bayes.py:457: RuntimeWarning: invalid value encountered in true_divide\n",
      "  (self.sigma_[i, :]), 1)\n",
      "C:\\Users\\user\\Anaconda3\\lib\\site-packages\\sklearn\\utils\\validation.py:72: DataConversionWarning: A column-vector y was passed when a 1d array was expected. Please change the shape of y to (n_samples, ), for example using ravel().\n",
      "  return f(**kwargs)\n",
      "C:\\Users\\user\\Anaconda3\\lib\\site-packages\\sklearn\\model_selection\\_split.py:672: UserWarning: The least populated class in y has only 1 members, which is less than n_splits=2.\n",
      "  % (min_groups, self.n_splits)), UserWarning)\n",
      "C:\\Users\\user\\Anaconda3\\lib\\site-packages\\sklearn\\utils\\validation.py:72: DataConversionWarning: A column-vector y was passed when a 1d array was expected. Please change the shape of y to (n_samples, ), for example using ravel().\n",
      "  return f(**kwargs)\n",
      "C:\\Users\\user\\Anaconda3\\lib\\site-packages\\sklearn\\model_selection\\_validation.py:552: FitFailedWarning: Estimator fit failed. The score on this train-test partition for these parameters will be set to nan. Details: \n",
      "Traceback (most recent call last):\n",
      "  File \"C:\\Users\\user\\Anaconda3\\lib\\site-packages\\sklearn\\model_selection\\_validation.py\", line 531, in _fit_and_score\n",
      "    estimator.fit(X_train, y_train, **fit_params)\n",
      "  File \"C:\\Users\\user\\Anaconda3\\lib\\site-packages\\sklearn\\ensemble\\_voting.py\", line 265, in fit\n",
      "    return super().fit(X, transformed_y, sample_weight)\n",
      "  File \"C:\\Users\\user\\Anaconda3\\lib\\site-packages\\sklearn\\ensemble\\_voting.py\", line 81, in fit\n",
      "    for idx, clf in enumerate(clfs) if clf not in (None, 'drop')\n",
      "  File \"C:\\Users\\user\\Anaconda3\\lib\\site-packages\\joblib\\parallel.py\", line 921, in __call__\n",
      "    if self.dispatch_one_batch(iterator):\n",
      "  File \"C:\\Users\\user\\Anaconda3\\lib\\site-packages\\joblib\\parallel.py\", line 759, in dispatch_one_batch\n",
      "    self._dispatch(tasks)\n",
      "  File \"C:\\Users\\user\\Anaconda3\\lib\\site-packages\\joblib\\parallel.py\", line 716, in _dispatch\n",
      "    job = self._backend.apply_async(batch, callback=cb)\n",
      "  File \"C:\\Users\\user\\Anaconda3\\lib\\site-packages\\joblib\\_parallel_backends.py\", line 182, in apply_async\n",
      "    result = ImmediateResult(func)\n",
      "  File \"C:\\Users\\user\\Anaconda3\\lib\\site-packages\\joblib\\_parallel_backends.py\", line 549, in __init__\n",
      "    self.results = batch()\n",
      "  File \"C:\\Users\\user\\Anaconda3\\lib\\site-packages\\joblib\\parallel.py\", line 225, in __call__\n",
      "    for func, args, kwargs in self.items]\n",
      "  File \"C:\\Users\\user\\Anaconda3\\lib\\site-packages\\joblib\\parallel.py\", line 225, in <listcomp>\n",
      "    for func, args, kwargs in self.items]\n",
      "  File \"C:\\Users\\user\\Anaconda3\\lib\\site-packages\\sklearn\\ensemble\\_base.py\", line 40, in _fit_single_estimator\n",
      "    estimator.fit(X, y)\n",
      "  File \"C:\\Users\\user\\Anaconda3\\lib\\site-packages\\sklearn\\linear_model\\_logistic.py\", line 1374, in fit\n",
      "    \" class: %r\" % classes_[0])\n",
      "ValueError: This solver needs samples of at least 2 classes in the data, but the data contains only one class: 0\n",
      "\n",
      "  FitFailedWarning)\n",
      "C:\\Users\\user\\Anaconda3\\lib\\site-packages\\sklearn\\utils\\validation.py:72: DataConversionWarning: A column-vector y was passed when a 1d array was expected. Please change the shape of y to (n_samples, ), for example using ravel().\n",
      "  return f(**kwargs)\n"
     ]
    },
    {
     "name": "stdout",
     "output_type": "stream",
     "text": [
      "Accuracy: nan (+/- nan) [Ensemble]\n"
     ]
    }
   ],
   "source": [
    "\n",
    "clf1 = LogisticRegression(random_state=1)\n",
    "clf2 = RandomForestClassifier(n_estimators=50, random_state=1)\n",
    "clf3 = GaussianNB()\n",
    "\n",
    "eclf = VotingClassifier(\n",
    "    estimators=[('lr', clf1), ('rf', clf2), ('gnb', clf3)],\n",
    "    voting='hard')\n",
    "\n",
    "for clf, label in zip([clf1, clf2, clf3, eclf], ['Logistic Regression', 'Random Forest', 'naive Bayes', 'Ensemble']):\n",
    "    scores = cross_val_score(clf, X_train, y_train, scoring='accuracy', cv=2)\n",
    "    print(\"Accuracy: %0.2f (+/- %0.2f) [%s]\" % (scores.mean(), scores.std(), label))"
   ]
  },
  {
   "cell_type": "code",
   "execution_count": 23,
   "metadata": {},
   "outputs": [
    {
     "name": "stderr",
     "output_type": "stream",
     "text": [
      "C:\\Users\\user\\Anaconda3\\lib\\site-packages\\sklearn\\utils\\validation.py:72: DataConversionWarning: A column-vector y was passed when a 1d array was expected. Please change the shape of y to (n_samples, ), for example using ravel().\n",
      "  return f(**kwargs)\n"
     ]
    },
    {
     "data": {
      "text/plain": [
       "VotingClassifier(estimators=[('lr', LogisticRegression(random_state=1)),\n",
       "                             ('rf',\n",
       "                              RandomForestClassifier(n_estimators=50,\n",
       "                                                     random_state=1)),\n",
       "                             ('gnb', GaussianNB())])"
      ]
     },
     "execution_count": 23,
     "metadata": {},
     "output_type": "execute_result"
    }
   ],
   "source": [
    "eclf.fit(X_train, y_train,)"
   ]
  },
  {
   "cell_type": "code",
   "execution_count": 28,
   "metadata": {},
   "outputs": [
    {
     "name": "stderr",
     "output_type": "stream",
     "text": [
      "C:\\Users\\user\\Anaconda3\\lib\\site-packages\\sklearn\\base.py:213: FutureWarning: From version 0.24, get_params will raise an AttributeError if a parameter cannot be retrieved as an instance attribute. Previously it would return None.\n",
      "  FutureWarning)\n",
      "C:\\Users\\user\\Anaconda3\\lib\\site-packages\\sklearn\\utils\\validation.py:72: DataConversionWarning: A column-vector y was passed when a 1d array was expected. Please change the shape of y to (n_samples, ), for example using ravel().\n",
      "  return f(**kwargs)\n"
     ]
    },
    {
     "data": {
      "image/png": "[encoded data removed]",
      "text/plain": [
       "<Figure size 576x396 with 1 Axes>"
      ]
     },
     "metadata": {},
     "output_type": "display_data"
    },
    {
     "data": {
      "text/plain": [
       "<matplotlib.axes._subplots.AxesSubplot at 0x27e9262e208>"
      ]
     },
     "execution_count": 28,
     "metadata": {},
     "output_type": "execute_result"
    }
   ],
   "source": [
    "from yellowbrick.classifier import ConfusionMatrix\n",
    "from sklearn import preprocessing\n",
    "le = preprocessing.LabelEncoder()\n",
    "cm = ConfusionMatrix(\n",
    "    clf1,\n",
    "    label_encoder=le)\n",
    "\n",
    "cm.fit(X_train, y_train)\n",
    "cm.score(X_test, y_test)\n",
    "\n",
    "cm.poof()\n"
   ]
  },
  {
   "cell_type": "code",
   "execution_count": null,
   "metadata": {},
   "outputs": [],
   "source": []
  }
 ],
 "metadata": {
  "kernelspec": {
   "display_name": "Python 3",
   "language": "python",
   "name": "python3"
  },
  "language_info": {
   "codemirror_mode": {
    "name": "ipython",
    "version": 3
   },
   "file_extension": ".py",
   "mimetype": "text/x-python",
   "name": "python",
   "nbconvert_exporter": "python",
   "pygments_lexer": "ipython3",
   "version": "3.7.4"
  }
 },
 "nbformat": 4,
 "nbformat_minor": 2
}
